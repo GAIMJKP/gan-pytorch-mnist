{
  "nbformat": 4,
  "nbformat_minor": 0,
  "metadata": {
    "colab": {
      "name": "cgan.ipynb",
      "provenance": [],
      "collapsed_sections": [],
      "machine_shape": "hm",
      "include_colab_link": true
    },
    "kernelspec": {
      "name": "python3",
      "display_name": "Python 3"
    },
    "accelerator": "GPU"
  },
  "cells": [
    {
      "cell_type": "markdown",
      "metadata": {
        "id": "view-in-github",
        "colab_type": "text"
      },
      "source": [
        "<a href=\"https://colab.research.google.com/github/gpapadok/gan-pytorch-mnist/blob/master/cgan.ipynb\" target=\"_parent\"><img src=\"https://colab.research.google.com/assets/colab-badge.svg\" alt=\"Open In Colab\"/></a>"
      ]
    },
    {
      "cell_type": "code",
      "metadata": {
        "id": "9dKtEL2DGrhu"
      },
      "source": [
        "import matplotlib.pyplot as plt\n",
        "\n",
        "import torch\n",
        "import torch.nn as nn\n",
        "import torch.optim as optim\n",
        "import torchvision\n",
        "import torchvision.transforms as transforms"
      ],
      "execution_count": 33,
      "outputs": []
    },
    {
      "cell_type": "code",
      "metadata": {
        "id": "JqsCfr6OKoUu"
      },
      "source": [
        "# PARAMETERS\n",
        "LR = .0002\n",
        "BETA1 = .5\n",
        "BETA2 = .999\n",
        "BATCH_SIZE = 128\n",
        "\n",
        "device = torch.device(\"cuda:0\" if torch.cuda.is_available() else \"cpu\")"
      ],
      "execution_count": 34,
      "outputs": []
    },
    {
      "cell_type": "code",
      "metadata": {
        "id": "HOzpou1UIPag"
      },
      "source": [
        "transform = transforms.Compose(\n",
        "    [transforms.ToTensor(),\n",
        "     transforms.Normalize((.5,), (.5,))\n",
        "     ])\n",
        "\n",
        "try:\n",
        "  trainset = torchvision.datasets.MNIST('./data', transform=transform)\n",
        "  # testset = torchvision.datasets.MNIST(root='./data', train=False, transform=transform)\n",
        "except RuntimeError:\n",
        "  trainset = torchvision.datasets.MNIST('./data', download=True, transform=transform)\n",
        "  # testset = torchvision.datasets.MNIST(root='./data', train=False, download=True, transform=transform)"
      ],
      "execution_count": 35,
      "outputs": []
    },
    {
      "cell_type": "code",
      "metadata": {
        "id": "U9nDpNhfdxMZ"
      },
      "source": [
        "# print(trainset)\n",
        "# print(testset)"
      ],
      "execution_count": 36,
      "outputs": []
    },
    {
      "cell_type": "code",
      "metadata": {
        "id": "noCG9zE5foTQ",
        "colab": {
          "base_uri": "https://localhost:8080/",
          "height": 105
        },
        "outputId": "5d02cb31-c3e5-4c38-c37a-42e3b6e59f8e"
      },
      "source": [
        "def plot_digits(dataset):\n",
        "  torch.manual_seed(7096)\n",
        "  trainloader = torch.utils.data.DataLoader(trainset, batch_size=10, shuffle=True)\n",
        "  trainiter = iter(trainloader)\n",
        "  batch = trainiter.next()\n",
        "\n",
        "  fig = plt.figure(figsize=(20,200))\n",
        "  for j in range(10):\n",
        "    plt.subplot(1,10,j+1)\n",
        "    plt.imshow(batch[0][j][0,:], cmap='gray')\n",
        "    plt.title(batch[1][j].item())\n",
        "    plt.axis('off')\n",
        "\n",
        "plot_digits(trainset)"
      ],
      "execution_count": 37,
      "outputs": [
        {
          "output_type": "display_data",
          "data": {
            "image/png": "[encoded data removed]",
            "text/plain": [
              "<Figure size 1440x14400 with 10 Axes>"
            ]
          },
          "metadata": {
            "tags": [],
            "needs_background": "light"
          }
        }
      ]
    },
    {
      "cell_type": "code",
      "metadata": {
        "id": "pKq7MfuH-13W"
      },
      "source": [
        "class Generator(nn.Module):\n",
        "  def __init__(self):\n",
        "    super(Generator, self).__init__()\n",
        "\n",
        "    self.embedding = nn.Embedding(10, 10)\n",
        "\n",
        "    self.lin1 = nn.Linear(100+10, 256)\n",
        "    self.lin2 = nn.Linear(256, 512)\n",
        "    self.lin3 = nn.Linear(512, 1024)\n",
        "    self.lin4 = nn.Linear(1024, 784)\n",
        "    self.leaky_relu = nn.LeakyReLU(.2)\n",
        "\n",
        "  def forward(self, input, labels):\n",
        "    labels = self.embedding(labels)\n",
        "    x = torch.cat([input, labels], dim=1)\n",
        "    x = self.leaky_relu(self.lin1(x))\n",
        "    x = self.leaky_relu(self.lin2(x))\n",
        "    x = self.leaky_relu(self.lin3(x))\n",
        "    x = self.leaky_relu(self.lin4(x))\n",
        "    return torch.tanh(x).view(-1, 1, 28, 28)\n",
        "\n",
        "class Discriminator(nn.Module):\n",
        "  def __init__(self):\n",
        "    super(Discriminator, self).__init__()\n",
        "\n",
        "    self.embedding = nn.Embedding(10, 10)\n",
        "\n",
        "    self.lin1 = nn.Linear(784+10, 1024)\n",
        "    self.lin2 = nn.Linear(1024, 512)\n",
        "    self.lin3 = nn.Linear(512, 256)\n",
        "    self.lin4 = nn.Linear(256, 1)\n",
        "    self.leaky_relu = nn.LeakyReLU(.2)\n",
        "    self.dropout = nn.Dropout(.3)\n",
        "\n",
        "  def forward(self, input, labels):\n",
        "    labels = self.embedding(labels)\n",
        "    x = input.view(-1, 784)\n",
        "    x = torch.cat([x, labels], dim=1)\n",
        "    x = self.leaky_relu(self.lin1(x))\n",
        "    x = self.dropout(x)\n",
        "    x = self.leaky_relu(self.lin2(x))\n",
        "    x = self.dropout(x)\n",
        "    x = self.leaky_relu(self.lin3(x))\n",
        "    x = self.dropout(x)\n",
        "    x = self.leaky_relu(self.lin4(x))\n",
        "    return torch.sigmoid(x)"
      ],
      "execution_count": 38,
      "outputs": []
    },
    {
      "cell_type": "code",
      "metadata": {
        "id": "XfhNRjyEOJgU"
      },
      "source": [
        "class GAN():\n",
        "  def __init__(self, generator, discriminator, loss, optimizerG, optimizerD, batch_size=BATCH_SIZE):\n",
        "    self.generator = generator\n",
        "    self.discriminator = discriminator\n",
        "    self.loss = loss\n",
        "    self.optimG = optimizerG\n",
        "    self.optimD = optimizerD\n",
        "    self.batch_size = batch_size\n",
        "\n",
        "  def generate_fake(self, batch, labels):\n",
        "    return self.generator(batch, labels)\n",
        "\n",
        "  def plot_ten_samples(self):\n",
        "    noise = torch.randn(10, 100, device=device)\n",
        "    labels = torch.tensor([0,1,2,3,4,5,6,7,8,9], device=device)\n",
        "    fake = self.generate_fake(noise, labels).cpu()\n",
        "    fake = fake.detach().numpy()\n",
        "\n",
        "    fig = plt.figure(figsize=(20,200))\n",
        "    for j in range(10):\n",
        "      plt.subplot(1,10,j+1)\n",
        "      plt.imshow(fake[j][0], cmap='gray')\n",
        "      plt.axis('off')\n",
        "    plt.show()\n",
        "\n",
        "  def train(self, trainset, epochs=EPOCHS, verbose=True):\n",
        "    \n",
        "    trainloader = torch.utils.data.DataLoader(trainset, batch_size=self.batch_size, shuffle=True)\n",
        "\n",
        "    errG_history = []\n",
        "    errD_history = []\n",
        "    try:\n",
        "      for epoch in range(epochs):\n",
        "        if epoch % 5 == 0:\n",
        "          self.plot_ten_samples()\n",
        "        for j, data in enumerate(trainloader, 0):\n",
        "          # TRAIN DISCRIMINATOR\n",
        "          for _ in range(1):\n",
        "            self.optimD.zero_grad()\n",
        "\n",
        "            # Train with real\n",
        "            real, real_target = data[0].to(device), data[1].to(device)\n",
        "            batch_size = real.size()[0]\n",
        "            real_labels = torch.ones(batch_size, 1, device=device) * .9\n",
        "            out = self.discriminator(real, real_target)\n",
        "            errD_real = self.loss(out, real_labels)\n",
        "            errD_real.backward()\n",
        "\n",
        "            # Train with fake\n",
        "            noise = torch.randn(batch_size, 100, device=device)\n",
        "            fake_target = torch.randint(0, 10, (batch_size,), device=device)\n",
        "            fake = self.generate_fake(noise, fake_target)\n",
        "            fake_labels = torch.ones(batch_size, 1, device=device) * .1\n",
        "            out = self.discriminator(fake, fake_target)\n",
        "            errD_fake = self.loss(out, fake_labels)\n",
        "            errD_fake.backward()\n",
        "\n",
        "            self.optimD.step()\n",
        "\n",
        "          errD_history += [errD_real+errD_fake]\n",
        "\n",
        "          # TRAIN GENERATOR\n",
        "          self.optimG.zero_grad()\n",
        "\n",
        "          noise = torch.randn(batch_size, 100, device=device)\n",
        "          fake_target = torch.randint(0, 10, (batch_size,), device=device)\n",
        "          fake = self.generate_fake(noise, fake_target)\n",
        "          fake_labels = torch.ones(batch_size, 1, device=device)\n",
        "          out = self.discriminator(fake, fake_target)\n",
        "          errG = self.loss(out, fake_labels)\n",
        "          errG.backward()\n",
        "\n",
        "          self.optimG.step()\n",
        "\n",
        "          errG_history += [errG]\n",
        "\n",
        "        print(f'EPOCH {epoch+1:2}: Dloss {errD_history[-1]:.4f} Gloss {errG_history[-1]:.4f}')\n",
        "    except KeyboardInterrupt:\n",
        "      return errG_history, errD_history\n",
        "\n",
        "\n",
        "          \n",
        "    return errG_history, errD_history"
      ],
      "execution_count": 39,
      "outputs": []
    },
    {
      "cell_type": "code",
      "metadata": {
        "id": "ahuZ8d6HC0jh"
      },
      "source": [
        "dnet = Discriminator().to(device)\n",
        "gnet = Generator().to(device)\n",
        "\n",
        "# print(gnet)\n",
        "# print(dnet)"
      ],
      "execution_count": 40,
      "outputs": []
    },
    {
      "cell_type": "code",
      "metadata": {
        "id": "FVGYQZXCfPhP"
      },
      "source": [
        "loss = nn.BCELoss()\n",
        "optimizerD = optim.Adam(dnet.parameters(), lr=LR, betas=(BETA1, BETA2))\n",
        "optimizerG = optim.Adam(gnet.parameters(), lr=LR, betas=(BETA1, BETA2))\n",
        "\n",
        "gan = GAN(gnet, dnet, loss, optimizerG, optimizerD)"
      ],
      "execution_count": 41,
      "outputs": []
    },
    {
      "cell_type": "code",
      "metadata": {
        "id": "DQ3Kv1kIgFUt",
        "colab": {
          "base_uri": "https://localhost:8080/",
          "height": 792
        },
        "outputId": "62f56245-77d6-4f3d-a7a8-b1fd884bed96"
      },
      "source": [
        "errorG_history, errorD_history = gan.train(trainset, epochs=80)"
      ],
      "execution_count": null,
      "outputs": [
        {
          "output_type": "display_data",
          "data": {
            "image/png": "[encoded data removed]",
            "text/plain": [
              "<Figure size 1440x14400 with 10 Axes>"
            ]
          },
          "metadata": {
            "tags": [],
            "needs_background": "light"
          }
        },
        {
          "output_type": "stream",
          "text": [
            "EPOCH  1: Dloss 0.6792 Gloss 2.4476\n",
            "EPOCH  2: Dloss 0.6631 Gloss 2.7534\n",
            "EPOCH  3: Dloss 0.6544 Gloss 2.4267\n",
            "EPOCH  4: Dloss 0.6536 Gloss 2.1774\n",
            "EPOCH  5: Dloss 0.6522 Gloss 2.3448\n"
          ],
          "name": "stdout"
        },
        {
          "output_type": "display_data",
          "data": {
            "image/png": "[encoded data removed]",
            "text/plain": [
              "<Figure size 1440x14400 with 10 Axes>"
            ]
          },
          "metadata": {
            "tags": [],
            "needs_background": "light"
          }
        },
        {
          "output_type": "stream",
          "text": [
            "EPOCH  6: Dloss 0.6524 Gloss 2.2838\n",
            "EPOCH  7: Dloss 0.6521 Gloss 2.3423\n",
            "EPOCH  8: Dloss 0.6521 Gloss 2.2438\n",
            "EPOCH  9: Dloss 0.6523 Gloss 2.2351\n",
            "EPOCH 10: Dloss 0.6523 Gloss 2.2488\n"
          ],
          "name": "stdout"
        },
        {
          "output_type": "display_data",
          "data": {
            "image/png": "[encoded data removed]",
            "text/plain": [
              "<Figure size 1440x14400 with 10 Axes>"
            ]
          },
          "metadata": {
            "tags": [],
            "needs_background": "light"
          }
        },
        {
          "output_type": "stream",
          "text": [
            "EPOCH 11: Dloss 0.6519 Gloss 2.3805\n",
            "EPOCH 12: Dloss 0.6523 Gloss 2.3077\n",
            "EPOCH 13: Dloss 0.6524 Gloss 2.3260\n",
            "EPOCH 14: Dloss 0.6528 Gloss 2.2298\n",
            "EPOCH 15: Dloss 0.6522 Gloss 2.1865\n"
          ],
          "name": "stdout"
        },
        {
          "output_type": "display_data",
          "data": {
            "image/png": "[encoded data removed]",
            "text/plain": [
              "<Figure size 1440x14400 with 10 Axes>"
            ]
          },
          "metadata": {
            "tags": [],
            "needs_background": "light"
          }
        },
        {
          "output_type": "stream",
          "text": [
            "EPOCH 16: Dloss 0.6541 Gloss 2.4717\n",
            "EPOCH 17: Dloss 0.6518 Gloss 2.2465\n",
            "EPOCH 18: Dloss 0.6526 Gloss 2.3401\n",
            "EPOCH 19: Dloss 0.6524 Gloss 2.4662\n",
            "EPOCH 20: Dloss 0.6519 Gloss 2.3264\n"
          ],
          "name": "stdout"
        },
        {
          "output_type": "display_data",
          "data": {
            "image/png": "[encoded data removed]",
            "text/plain": [
              "<Figure size 1440x14400 with 10 Axes>"
            ]
          },
          "metadata": {
            "tags": [],
            "needs_background": "light"
          }
        },
        {
          "output_type": "stream",
          "text": [
            "EPOCH 21: Dloss 0.6528 Gloss 2.1943\n",
            "EPOCH 22: Dloss 0.6521 Gloss 2.3778\n",
            "EPOCH 23: Dloss 0.6523 Gloss 2.3558\n"
          ],
          "name": "stdout"
        }
      ]
    },
    {
      "cell_type": "code",
      "metadata": {
        "id": "_6pg_UvA4GgK"
      },
      "source": [
        "gan.plot_ten_samples()\n",
        "gan.plot_ten_samples()\n",
        "gan.plot_ten_samples()"
      ],
      "execution_count": null,
      "outputs": []
    },
    {
      "cell_type": "code",
      "metadata": {
        "id": "UIfu3iZ-oS4_"
      },
      "source": [
        "plt.plot(errorG_history)\n",
        "plt.plot(errorD_history)\n",
        "plt.title('loss graph')\n",
        "plt.xlabel('batch count')\n",
        "plt.ylabel('loss')\n",
        "plt.legend(['generator','discriminator'])"
      ],
      "execution_count": null,
      "outputs": []
    },
    {
      "cell_type": "code",
      "metadata": {
        "id": "LXbSgINGDUEf"
      },
      "source": [
        "torch.save(gan.generator.state_dict(), \"cgan.pt\")"
      ],
      "execution_count": null,
      "outputs": []
    }
  ]
}